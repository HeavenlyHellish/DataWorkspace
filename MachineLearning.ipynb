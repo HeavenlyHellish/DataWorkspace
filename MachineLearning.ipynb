{
 "cells": [
  {
   "cell_type": "code",
   "execution_count": null,
   "id": "e14617d6",
   "metadata": {},
   "outputs": [
    {
     "name": "stdout",
     "output_type": "stream",
     "text": [
      "Training set size: 66\n",
      "Validation set size: 19\n",
      "Testing set size: 10\n",
      "R^2: 0.012901738415048825\n"
     ]
    },
    {
     "ename": "ModuleNotFoundError",
     "evalue": "No module named 'matplotlib'",
     "output_type": "error",
     "traceback": [
      "\u001b[31m---------------------------------------------------------------------------\u001b[39m",
      "\u001b[31mModuleNotFoundError\u001b[39m                       Traceback (most recent call last)",
      "\u001b[36mCell\u001b[39m\u001b[36m \u001b[39m\u001b[32mIn[33]\u001b[39m\u001b[32m, line 41\u001b[39m\n\u001b[32m     38\u001b[39m \u001b[38;5;28mprint\u001b[39m(\u001b[33m\"\u001b[39m\u001b[33mR^2:\u001b[39m\u001b[33m\"\u001b[39m, r_squared)\n\u001b[32m     40\u001b[39m \u001b[38;5;66;03m# Create a graph\u001b[39;00m\n\u001b[32m---> \u001b[39m\u001b[32m41\u001b[39m \u001b[38;5;28;01mimport\u001b[39;00m\u001b[38;5;250m \u001b[39m\u001b[34;01mmatplotlib\u001b[39;00m\u001b[34;01m.\u001b[39;00m\u001b[34;01mpyplot\u001b[39;00m\u001b[38;5;250m \u001b[39m\u001b[38;5;28;01mas\u001b[39;00m\u001b[38;5;250m \u001b[39m\u001b[34;01mplt\u001b[39;00m\n\u001b[32m     42\u001b[39m plt.scatter(x, y, color=\u001b[33m'\u001b[39m\u001b[33mblue\u001b[39m\u001b[33m'\u001b[39m)\n\u001b[32m     44\u001b[39m plt.xlabel(\u001b[33m\"\u001b[39m\u001b[33mAge\u001b[39m\u001b[33m\"\u001b[39m)  \n",
      "\u001b[31mModuleNotFoundError\u001b[39m: No module named 'matplotlib'"
     ]
    }
   ],
   "source": [
    "import pandas as pan\n",
    "from sklearn.model_selection import train_test_split\n",
    "from sklearn.preprocessing import LabelEncoder\n",
    "import matplotlib.pyplot as plt\n",
    "\n",
    "# Load the dataset\n",
    "frame = pan.read_csv(\"Genshin Impact Survey Results.csv\", skipinitialspace=True)\n",
    "\n",
    "# Drop rows with missing data\n",
    "frame = frame.dropna(axis=0, inplace=False)\n",
    "\n",
    "# Encode features\n",
    "frame['Gender'] = LabelEncoder().fit_transform(frame['Gender'])\n",
    "frame['When did you start playing Genshin Impact'] = LabelEncoder().fit_transform(frame['When did you start playing Genshin Impact'])\n",
    "\n",
    "# Encode target\n",
    "frame['How much have you spent'] = LabelEncoder().fit_transform(frame['How much have you spent'])\n",
    "\n",
    "# Split features and target\n",
    "x = frame[['Age']]\n",
    "y = frame['How much have you spent']\n",
    "\n",
    "# Split into training (70%), validation (20%), and testing (10%)\n",
    "x_train, x_temp, y_train, y_temp = train_test_split(x, y, test_size=0.3, random_state=42)\n",
    "x_val, x_test, y_val, y_test = train_test_split(x_temp, y_temp, test_size=1/3, random_state=42)\n",
    "\n",
    "# Output the sizes of each split\n",
    "print(\"Training set size:\", len(x_train))\n",
    "print(\"Validation set size:\", len(x_val))\n",
    "print(\"Testing set size:\", len(x_test))\n",
    "\n",
    "# Calculate R^2 Score\n",
    "from sklearn.linear_model import LinearRegression\n",
    "\n",
    "model = LinearRegression(fit_intercept=True)\n",
    "model.fit(x_train, y_train)\n",
    "\n",
    "r_squared = model.score(x_train, y_train)\n",
    "print(\"R^2:\", r_squared)\n",
    "\n",
    "# Create a graph\n",
    "\n",
    "plt.scatter(x, y, color='blue')\n",
    "\n",
    "plt.xlabel(\"Age\")  \n",
    "plt.ylabel(\"How much have you spent (encoded)\")\n",
    "plt.title(\"Age vs. Spending\")\n",
    "savefig = \"age_vs_spending.png\"\n",
    "\n",
    "\n"
   ]
  },
  {
   "cell_type": "markdown",
   "id": "750007d8",
   "metadata": {},
   "source": [
    "1. Word Document\n",
    "    a. prediction and inference question\n",
    "        Can we predict how much a player has spent on Genshin Impact based on their age, gender, and how long they've been playing?\n",
    "    b. what are the features you are using for the model? (x variable)\n",
    "    c. dependent variable? (y variable)\n",
    "    d. as a regression or classification problem?\n",
    "    e. what model do you plan on using for linear regression or kNearest Neighbors\n",
    "2. The CSV file with the data\n",
    "3. clean data and talk about it in the document"
   ]
  }
 ],
 "metadata": {
  "kernelspec": {
   "display_name": ".venv",
   "language": "python",
   "name": "python3"
  },
  "language_info": {
   "codemirror_mode": {
    "name": "ipython",
    "version": 3
   },
   "file_extension": ".py",
   "mimetype": "text/x-python",
   "name": "python",
   "nbconvert_exporter": "python",
   "pygments_lexer": "ipython3",
   "version": "3.12.1"
  }
 },
 "nbformat": 4,
 "nbformat_minor": 5
}
